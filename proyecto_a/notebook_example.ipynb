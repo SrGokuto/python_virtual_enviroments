{
 "cells": [
  {
   "cell_type": "code",
   "execution_count": 1,
   "id": "eef73380-6257-496f-9a01-6456a1c66ced",
   "metadata": {},
   "outputs": [
    {
     "name": "stdout",
     "output_type": "stream",
     "text": [
      "Hola, este es un notebook de prueba\n",
      "Digite su nombre\n"
     ]
    },
    {
     "name": "stdin",
     "output_type": "stream",
     "text": [
      ">>>  Jeonardo\n"
     ]
    },
    {
     "name": "stdout",
     "output_type": "stream",
     "text": [
      "Bienvenido Jeonardo\n"
     ]
    }
   ],
   "source": [
    "print(\"Hola, este es un notebook de prueba\")\n",
    "print(\"Digite su nombre\")\n",
    "nombre = input(\">>> \")\n",
    "print(f\"Bienvenido {nombre}\")"
   ]
  }
 ],
 "metadata": {
  "kernelspec": {
   "display_name": "Python 3 (ipykernel)",
   "language": "python",
   "name": "python3"
  },
  "language_info": {
   "codemirror_mode": {
    "name": "ipython",
    "version": 3
   },
   "file_extension": ".py",
   "mimetype": "text/x-python",
   "name": "python",
   "nbconvert_exporter": "python",
   "pygments_lexer": "ipython3",
   "version": "3.13.7"
  }
 },
 "nbformat": 4,
 "nbformat_minor": 5
}
